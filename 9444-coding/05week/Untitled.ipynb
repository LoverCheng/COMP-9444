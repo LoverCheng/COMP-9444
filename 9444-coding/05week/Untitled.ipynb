{
 "cells": [
  {
   "cell_type": "markdown",
   "id": "404da674",
   "metadata": {},
   "source": [
    "# Xavier initialization by numpy"
   ]
  },
  {
   "cell_type": "code",
   "execution_count": 34,
   "id": "345e1429",
   "metadata": {},
   "outputs": [
    {
     "data": {
      "text/plain": [
       "array([[-0.14742664,  0.05668409,  0.10620731, ..., -0.00483351,\n",
       "        -0.09269576, -0.1141166 ],\n",
       "       [-0.07931697, -0.02170063, -0.09799206, ...,  0.09536705,\n",
       "        -0.04791298, -0.02936259],\n",
       "       [-0.05872601, -0.06492458,  0.02201904, ..., -0.09341563,\n",
       "        -0.16815332,  0.18075478],\n",
       "       ...,\n",
       "       [ 0.09973033,  0.07729087,  0.00757783, ...,  0.03566212,\n",
       "         0.00233151,  0.06093598],\n",
       "       [-0.1294106 , -0.03474609,  0.10139838, ..., -0.05624536,\n",
       "        -0.04435028, -0.11723931],\n",
       "       [-0.0212626 , -0.19407981, -0.03043198, ...,  0.17050276,\n",
       "        -0.09059107,  0.0764859 ]])"
      ]
     },
     "execution_count": 34,
     "metadata": {},
     "output_type": "execute_result"
    }
   ],
   "source": [
    "import numpy as np\n",
    "\n",
    "def xavier_initialization(size_in, size_out):\n",
    "    return np.random.randn(size_in, size_out) * np.sqrt(1./size_in)\n",
    "\n",
    "input_neurons = 100\n",
    "output_neurons = 50\n",
    "\n",
    "weight = xavier_initialization(input_neurons, output_neurons)\n",
    "\n",
    "weight"
   ]
  },
  {
   "cell_type": "markdown",
   "id": "95f05d61",
   "metadata": {},
   "source": [
    "# Xavier Initialization - Pytorch"
   ]
  },
  {
   "cell_type": "code",
   "execution_count": 29,
   "id": "9c7ef2ba",
   "metadata": {},
   "outputs": [
    {
     "data": {
      "text/plain": [
       "Parameter containing:\n",
       "tensor([[-0.1645, -0.1552, -0.1658,  ...,  0.1375,  0.1190,  0.1359],\n",
       "        [-0.0269, -0.1620, -0.1167,  ..., -0.0658, -0.0720,  0.0383],\n",
       "        [ 0.1546, -0.0567,  0.1323,  ..., -0.0057,  0.1790,  0.1887],\n",
       "        ...,\n",
       "        [ 0.0229,  0.1411, -0.0782,  ..., -0.1051,  0.1776,  0.0261],\n",
       "        [-0.1607,  0.1447,  0.1995,  ..., -0.1849, -0.1033,  0.0209],\n",
       "        [ 0.1167, -0.1252, -0.1671,  ..., -0.0892,  0.0335, -0.0085]],\n",
       "       requires_grad=True)"
      ]
     },
     "execution_count": 29,
     "metadata": {},
     "output_type": "execute_result"
    }
   ],
   "source": [
    "import torch.nn as nn\n",
    "layer = nn.Linear(in_features=100, out_features=50)\n",
    "nn.init.xavier_uniform_(layer.weight)"
   ]
  }
 ],
 "metadata": {
  "kernelspec": {
   "display_name": "Python 3 (ipykernel)",
   "language": "python",
   "name": "python3"
  },
  "language_info": {
   "codemirror_mode": {
    "name": "ipython",
    "version": 3
   },
   "file_extension": ".py",
   "mimetype": "text/x-python",
   "name": "python",
   "nbconvert_exporter": "python",
   "pygments_lexer": "ipython3",
   "version": "3.9.13"
  },
  "toc": {
   "base_numbering": 1,
   "nav_menu": {},
   "number_sections": true,
   "sideBar": true,
   "skip_h1_title": false,
   "title_cell": "Table of Contents",
   "title_sidebar": "Contents",
   "toc_cell": false,
   "toc_position": {},
   "toc_section_display": true,
   "toc_window_display": false
  }
 },
 "nbformat": 4,
 "nbformat_minor": 5
}
