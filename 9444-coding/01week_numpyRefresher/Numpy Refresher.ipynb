{
 "cells": [
  {
   "cell_type": "markdown",
   "id": "161ce787",
   "metadata": {},
   "source": [
    "# Arrays"
   ]
  },
  {
   "cell_type": "code",
   "execution_count": null,
   "id": "61651399",
   "metadata": {},
   "outputs": [],
   "source": [
    "import numpy as np"
   ]
  },
  {
   "cell_type": "markdown",
   "id": "a6313e98",
   "metadata": {},
   "source": []
  },
  {
   "cell_type": "code",
   "execution_count": null,
   "id": "7793d3c5",
   "metadata": {},
   "outputs": [],
   "source": [
    "a = np.array([1, 2, 3])\n",
    "a"
   ]
  },
  {
   "cell_type": "code",
   "execution_count": null,
   "id": "01754a8b",
   "metadata": {},
   "outputs": [],
   "source": [
    "print(a[0], a[1], a[2])"
   ]
  },
  {
   "cell_type": "code",
   "execution_count": null,
   "id": "22a7350b",
   "metadata": {},
   "outputs": [],
   "source": [
    "a[0] = 5\n",
    "a"
   ]
  },
  {
   "cell_type": "code",
   "execution_count": null,
   "id": "cf01c7e0",
   "metadata": {},
   "outputs": [],
   "source": [
    "b = np.array([[1,2,3], [4,5,6]])\n",
    "b"
   ]
  },
  {
   "cell_type": "code",
   "execution_count": null,
   "id": "6a8ebfbc",
   "metadata": {},
   "outputs": [],
   "source": [
    "b.shape?"
   ]
  },
  {
   "cell_type": "code",
   "execution_count": null,
   "id": "69b9fdde",
   "metadata": {},
   "outputs": [],
   "source": [
    "print(b[0,0], b[0,1], b[1,0])"
   ]
  },
  {
   "cell_type": "markdown",
   "id": "cafb972e",
   "metadata": {},
   "source": [
    "## Other functions to create Arrays"
   ]
  },
  {
   "cell_type": "code",
   "execution_count": null,
   "id": "6a848965",
   "metadata": {},
   "outputs": [],
   "source": [
    "a = np.zeros((2,2))\n",
    "a"
   ]
  },
  {
   "cell_type": "code",
   "execution_count": null,
   "id": "5b0dd0b4",
   "metadata": {},
   "outputs": [],
   "source": [
    "print(a)"
   ]
  },
  {
   "cell_type": "code",
   "execution_count": null,
   "id": "21727289",
   "metadata": {},
   "outputs": [],
   "source": [
    "a = np.ones((1,2))\n",
    "a"
   ]
  },
  {
   "cell_type": "code",
   "execution_count": null,
   "id": "72cc0d2c",
   "metadata": {},
   "outputs": [],
   "source": [
    "# create a constant array\n",
    "c = np.full((2,2), 7)\n",
    "print(c)"
   ]
  },
  {
   "cell_type": "code",
   "execution_count": null,
   "id": "95884ba9",
   "metadata": {},
   "outputs": [],
   "source": [
    "d = np.eye(3)\n",
    "d"
   ]
  },
  {
   "cell_type": "code",
   "execution_count": null,
   "id": "5976f8d6",
   "metadata": {},
   "outputs": [],
   "source": [
    "e = np.random.random((2,2))\n",
    "e"
   ]
  },
  {
   "cell_type": "markdown",
   "id": "f29de276",
   "metadata": {},
   "source": [
    "## index in Array"
   ]
  },
  {
   "cell_type": "markdown",
   "id": "8de810be",
   "metadata": {},
   "source": [
    "> the number of shape returned is greater than zero."
   ]
  },
  {
   "cell_type": "code",
   "execution_count": null,
   "id": "18a02eec",
   "metadata": {
    "scrolled": false
   },
   "outputs": [],
   "source": [
    "a = np.array([[1,2,3,4], [5,6,7,8], [9,10,11,12]])\n",
    "a"
   ]
  },
  {
   "cell_type": "code",
   "execution_count": null,
   "id": "a077ceb7",
   "metadata": {},
   "outputs": [],
   "source": [
    "b = a[0:2, 1:3]\n",
    "b"
   ]
  },
  {
   "cell_type": "code",
   "execution_count": null,
   "id": "e480c513",
   "metadata": {},
   "outputs": [],
   "source": [
    "b[0,0] = 66\n",
    "b"
   ]
  },
  {
   "cell_type": "code",
   "execution_count": null,
   "id": "8e2f8edc",
   "metadata": {},
   "outputs": [],
   "source": [
    "row_r1 = a[1, :]\n",
    "row_r1, row_r1.shape"
   ]
  },
  {
   "cell_type": "code",
   "execution_count": null,
   "id": "49297d0e",
   "metadata": {},
   "outputs": [],
   "source": [
    "row_r2 = a[1:2, :]\n",
    "row_r2, row_r2.shape"
   ]
  },
  {
   "cell_type": "code",
   "execution_count": null,
   "id": "4b242077",
   "metadata": {},
   "outputs": [],
   "source": [
    "col_r1 = a[: , 1]\n",
    "col_r2 = a[: ,2]"
   ]
  },
  {
   "cell_type": "code",
   "execution_count": null,
   "id": "80cc6f10",
   "metadata": {},
   "outputs": [],
   "source": [
    "print(col_r1, col_r1.shape)\n",
    "print(col_r2, col_r2.shape)"
   ]
  },
  {
   "cell_type": "markdown",
   "id": "333e78c3",
   "metadata": {},
   "source": [
    "## Boolean array indexing"
   ]
  },
  {
   "cell_type": "markdown",
   "id": "cad6fc5e",
   "metadata": {},
   "source": [
    "Boolean array indexing lets you pick out arbitrary elements of an array. Frequently this type of indexing is used to select the elements of an array that satisfy some condition. Here is an example:"
   ]
  },
  {
   "cell_type": "code",
   "execution_count": null,
   "id": "c12be443",
   "metadata": {},
   "outputs": [],
   "source": [
    "a = np.array([[1,2], [3,4], [5,6]])\n",
    "a"
   ]
  },
  {
   "cell_type": "code",
   "execution_count": null,
   "id": "87719122",
   "metadata": {
    "scrolled": true
   },
   "outputs": [],
   "source": [
    "# Find the elements of a that are bigger than 2; \n",
    "# this returns a numpy array of Booleans of the same shape as a, \n",
    "# where each slot of bool_idx tells whether that element of a is > 2.\n",
    "bool_idx  = (a > 2)\n",
    "bool_idx"
   ]
  },
  {
   "cell_type": "code",
   "execution_count": null,
   "id": "8250a5a5",
   "metadata": {},
   "outputs": [],
   "source": [
    "# We use boolean array indexing to construct a rank 1 array\n",
    "# consisting of the elements of a corresponding to the True values\n",
    "# of bool_idx\n",
    "\n",
    "a[bool_idx]"
   ]
  },
  {
   "cell_type": "code",
   "execution_count": null,
   "id": "c42164a4",
   "metadata": {},
   "outputs": [],
   "source": [
    "# we can do all of the above in a single \n",
    "a[a > 2]"
   ]
  },
  {
   "cell_type": "markdown",
   "id": "5fbca639",
   "metadata": {},
   "source": [
    "For brevity we have left out a lot of details about numpy array indexing; if you want to know more you should read [the documentation](http://docs.scipy.org/doc/numpy/reference/arrays.indexing.html)."
   ]
  },
  {
   "cell_type": "markdown",
   "id": "f1db1f56",
   "metadata": {},
   "source": [
    "## Datatypes"
   ]
  },
  {
   "cell_type": "code",
   "execution_count": null,
   "id": "9b422b3f",
   "metadata": {},
   "outputs": [],
   "source": [
    "# Let numpy choose the datatype\n",
    "x = np.array([1, 2])\n",
    "x.dtype"
   ]
  },
  {
   "cell_type": "code",
   "execution_count": null,
   "id": "0ea4bb1d",
   "metadata": {},
   "outputs": [],
   "source": [
    "# Let numpy choose the datatype\n",
    "x = np.array([1.0, 2.0])\n",
    "x.dtype"
   ]
  },
  {
   "cell_type": "code",
   "execution_count": null,
   "id": "8ab1666b",
   "metadata": {},
   "outputs": [],
   "source": [
    "# Force a particular datatype\n",
    "x = np.array([1,2], dtype=np.int64)\n",
    "x.dtype"
   ]
  },
  {
   "cell_type": "markdown",
   "id": "b22081f5",
   "metadata": {},
   "source": [
    "You can read all about numpy datatypes [in the documentation](http://docs.scipy.org/doc/numpy/reference/arrays.dtypes.html)."
   ]
  },
  {
   "cell_type": "markdown",
   "id": "c0e01f72",
   "metadata": {},
   "source": [
    "## Array math"
   ]
  },
  {
   "cell_type": "markdown",
   "id": "65ce87e8",
   "metadata": {},
   "source": [
    "add two array in one"
   ]
  },
  {
   "cell_type": "code",
   "execution_count": null,
   "id": "cea695dd",
   "metadata": {},
   "outputs": [],
   "source": [
    "x = np.array([[1,2], [3,4]], dtype = np.float64)\n",
    "y = np.array([[5, 6], [7, 8]], dtype = np.float64)\n",
    "# Elementwise sum; both produce the array\n",
    "print(x + y)\n",
    "print(np.add(x, y))"
   ]
  },
  {
   "cell_type": "markdown",
   "id": "3dc01510",
   "metadata": {},
   "source": [
    "Elementwise difference; "
   ]
  },
  {
   "cell_type": "code",
   "execution_count": null,
   "id": "b9b531f4",
   "metadata": {},
   "outputs": [],
   "source": [
    "print(x - y)\n",
    "print(np.subtract(x, y))"
   ]
  },
  {
   "cell_type": "markdown",
   "id": "90d92747",
   "metadata": {},
   "source": [
    "**Elementwise product**; both produce the array"
   ]
  },
  {
   "cell_type": "code",
   "execution_count": null,
   "id": "18cbca8c",
   "metadata": {},
   "outputs": [],
   "source": [
    "print(x * y)\n",
    "print(np.multiply(x, y))"
   ]
  },
  {
   "cell_type": "markdown",
   "id": "fb487b92",
   "metadata": {},
   "source": [
    "Elementwise division; both produce the array"
   ]
  },
  {
   "cell_type": "code",
   "execution_count": null,
   "id": "58bf0594",
   "metadata": {},
   "outputs": [],
   "source": [
    "print(x/y)\n",
    "print(np.divide(x,y))"
   ]
  },
  {
   "cell_type": "markdown",
   "id": "9c02fc19",
   "metadata": {},
   "source": [
    "> np.dot and *"
   ]
  },
  {
   "cell_type": "markdown",
   "id": "a2c0eda5",
   "metadata": {},
   "source": [
    "Note that unlike MATLAB, `*` is elementwise multiplication, not matrix multiplication. We instead use the dot function to compute inner products of vectors, to multiply a vector by a matrix, and to multiply matrices. `dot` is available both as a function in the numpy module and as an instance method of array objects:"
   ]
  },
  {
   "cell_type": "code",
   "execution_count": null,
   "id": "6b4a33a2",
   "metadata": {},
   "outputs": [],
   "source": [
    "x = np.array([[1,2], [3,4]])\n",
    "y = np.array([[5,6], [7,8]])\n",
    "\n",
    "v = np.array([9, 10])\n",
    "w = np.array([11, 12])\n",
    "print(v.dot(w))\n",
    "print(np.dot(v, w))"
   ]
  },
  {
   "cell_type": "code",
   "execution_count": null,
   "id": "f540b97c",
   "metadata": {},
   "outputs": [],
   "source": [
    "# Matrix / vector product; both produce the rank 1 array [29 67]\n",
    "print(x.dot(v))\n",
    "print(np.dot(x, v))"
   ]
  },
  {
   "cell_type": "code",
   "execution_count": null,
   "id": "a9784a81",
   "metadata": {},
   "outputs": [],
   "source": [
    "# Matrix / vector product; both produce the rank 1 array [29 67]\n",
    "print(x.dot(v))\n",
    "print(np.dot(x, v))"
   ]
  },
  {
   "cell_type": "code",
   "execution_count": null,
   "id": "62d2058c",
   "metadata": {},
   "outputs": [],
   "source": [
    "# Matrix / matrix product; both produce the rank 2 array\n",
    "print(x.dot(y))\n",
    "print(np.dot(x, y))"
   ]
  },
  {
   "cell_type": "markdown",
   "id": "426498cd",
   "metadata": {},
   "source": [
    "## Sum function"
   ]
  },
  {
   "cell_type": "markdown",
   "id": "7ba6a7a0",
   "metadata": {},
   "source": [
    "Numpy provides many useful functions for performing computations on arrays; one of the most useful is `sum` :"
   ]
  },
  {
   "cell_type": "code",
   "execution_count": null,
   "id": "dcd38a1e",
   "metadata": {},
   "outputs": [],
   "source": [
    "x = np.array([[1,2], [3,4]])\n",
    "\n",
    "print(np.sum(x))\n",
    "print(np.sum(x, axis = 0))\n",
    "print(np.sum(x, axis = 1))"
   ]
  },
  {
   "cell_type": "markdown",
   "id": "2ff01733",
   "metadata": {},
   "source": [
    "You can find the full list of mathematical functions provided by numpy [in the documentation](http://docs.scipy.org/doc/numpy/reference/routines.math.html).\n",
    "\n",
    "Apart from computing mathematical functions using arrays, we frequently need to reshape or otherwise manipulate data in arrays. The simplest example of this type of operation is transposing a matrix; to transpose a matrix, simply use the T attribute of an array object:"
   ]
  },
  {
   "cell_type": "markdown",
   "id": "ea14c6d9",
   "metadata": {},
   "source": [
    "Transpose of matrix"
   ]
  },
  {
   "cell_type": "code",
   "execution_count": null,
   "id": "026f3f7d",
   "metadata": {},
   "outputs": [],
   "source": [
    "x = np.array([[1,2], [3,4]])\n",
    "print(x)\n",
    "print(x.T)"
   ]
  },
  {
   "cell_type": "markdown",
   "id": "498162ae",
   "metadata": {},
   "source": [
    "> Note that taking the transpose of a rank 1 array does nothing:"
   ]
  },
  {
   "cell_type": "code",
   "execution_count": null,
   "id": "9bd10378",
   "metadata": {},
   "outputs": [],
   "source": [
    "v = np.array([1,2,3])\n",
    "print(v)\n",
    "print(v.T)"
   ]
  },
  {
   "cell_type": "markdown",
   "id": "8f9e030d",
   "metadata": {},
   "source": [
    "Numpy provides many more functions for manipulating arrays; you can see the full list [in the documentation](http://docs.scipy.org/doc/numpy/reference/routines.array-manipulation.html)."
   ]
  },
  {
   "cell_type": "markdown",
   "id": "7ba40068",
   "metadata": {},
   "source": [
    "## Broadcasting"
   ]
  },
  {
   "cell_type": "markdown",
   "id": "81fa7dbc",
   "metadata": {},
   "source": [
    "Broadcasting is a powerful mechanism that allows numpy to work with arrays of different shapes when performing arithmetic operations. Frequently we have a smaller array and a larger array, and we want to use the smaller array multiple times to perform some operation on the larger array.\n",
    "\n",
    "For example, suppose that we want to add a constant vector to each row of a matrix. We could do it like this:"
   ]
  },
  {
   "cell_type": "code",
   "execution_count": null,
   "id": "2afe293f",
   "metadata": {},
   "outputs": [],
   "source": [
    "x = np.array([[1,2,3], [4,5,6], [10,11,12]])\n",
    "v = np.array([1,0,1])\n",
    "y = np.empty_like(x)"
   ]
  },
  {
   "cell_type": "code",
   "execution_count": null,
   "id": "7bbc938c",
   "metadata": {},
   "outputs": [],
   "source": [
    "# add the vector v to each row of the matrix x with an explicit loop\n",
    "for i in range(3):\n",
    "    y[i, :] = x[i,:] + v\n",
    "print(y)"
   ]
  },
  {
   "cell_type": "markdown",
   "id": "758b98d8",
   "metadata": {},
   "source": [
    "This works; however when the matrix `x` is very large, computing an explicit loop in Python could be slow. Note that adding the vector `v` to each row of the matrix `x` is equivalent to forming a matrix `vv` by stacking multiple copies of `v` vertically, then performing elementwise summation of `x` and `vv` . We could implement this approach like this:"
   ]
  },
  {
   "cell_type": "code",
   "execution_count": null,
   "id": "36074e71",
   "metadata": {},
   "outputs": [],
   "source": [
    "x = np.array([[1,2,3], [4,5,6], [7,8,9], [10,11,12]])\n",
    "v = np.array([1,0,1])\n",
    "vv = np.tile(v, (4,1))\n",
    "print(vv)\n",
    "\n",
    "y = x + vv\n",
    "print(y)"
   ]
  },
  {
   "cell_type": "markdown",
   "id": "8b26b895",
   "metadata": {},
   "source": [
    "Numpy broadcasting allows us to perform this computation without actually creating multiple copies of `v` . Consider this version, using broadcasting:"
   ]
  },
  {
   "cell_type": "code",
   "execution_count": null,
   "id": "bb98c857",
   "metadata": {},
   "outputs": [],
   "source": [
    "x = np.array([[1,2,3], [4,5,6], [7,8,9], [10,11,12]])\n",
    "v = np.array([1, 0 , 1])\n",
    "y = x + v\n",
    "print(y)"
   ]
  },
  {
   "cell_type": "code",
   "execution_count": null,
   "id": "10175030",
   "metadata": {},
   "outputs": [],
   "source": [
    "x + x"
   ]
  },
  {
   "cell_type": "markdown",
   "id": "ea7bdc65",
   "metadata": {},
   "source": [
    "Theline `y = x + v` works even though `x` has shape `(4, 3)` and `v` has shape `(3,)` due to broadcasting; this line works as if v actually had shape `(4, 3)` , where each row was a copy of v , and the sum was performed elementwise.\n",
    "\n",
    "- If the arrays do not have the same rank, prepend the shape of the lower rank array with 1s until both shapes have the same length.\n",
    "- The two arrays are said to be compatible in a dimension if they have the same size in the dimension, or if one of the arrays has size 1 in that dimension.\n",
    "- The arrays can be broadcast together if they are compatible in all dimensions.\n",
    "- After broadcasting, each array behaves as if it had shape equal to the elementwise maximum of shapes of the two input arrays.\n",
    "- In any dimension where one array had size 1 and the other array had size greater than 1, the first array behaves as if it were copied along that dimension"
   ]
  },
  {
   "cell_type": "markdown",
   "id": "4e2f5c0f",
   "metadata": {},
   "source": [
    "If this explanation does not make sense, try reading the explanation [from the documentation](http://docs.scipy.org/doc/numpy/user/basics.broadcasting.html) or [this explanation](http://scipy.github.io/old-wiki/pages/EricsBroadcastingDoc).\n",
    "\n",
    "Functions that support broadcasting are known as universal functions. You can find the list of all universal functions in the documentation.\n",
    "\n",
    "Here are some applications of broadcasting:"
   ]
  },
  {
   "cell_type": "markdown",
   "id": "05d3df2e",
   "metadata": {},
   "source": [
    "### reshape"
   ]
  },
  {
   "cell_type": "code",
   "execution_count": null,
   "id": "12ab100f",
   "metadata": {},
   "outputs": [],
   "source": [
    "# To compute an outer product, we first reshape v to be a column\n",
    "# vector of shape (3, 1); we can then broadcast it against w to yield\n",
    "# an output of shape (3, 2), which is the outer product of v and w:\n",
    "v = np.array([1, 2, 3])\n",
    "w = np.array([4, 5])\n",
    "\n",
    "print(np.reshape(v, (3, 1)) * w)"
   ]
  },
  {
   "cell_type": "code",
   "execution_count": null,
   "id": "f31dd118",
   "metadata": {},
   "outputs": [],
   "source": [
    "x = np.array([[1,2,3], [4,5,6]])\n",
    "print(x + v)"
   ]
  },
  {
   "cell_type": "code",
   "execution_count": null,
   "id": "f8f828ff",
   "metadata": {},
   "outputs": [],
   "source": [
    "# Add a vector to each column of a matrix\n",
    "# x has shape (2, 3) and w has shape (2,).\n",
    "# If we transpose x then it has shape (3, 2) and can be broadcast\n",
    "# against w to yield a result of shape (3, 2); transposing this result\n",
    "# yields the final result of shape (2, 3) which is the matrix x with\n",
    "# the vector w added to each column. Gives the following matrix:\n",
    "(x.T + w).T"
   ]
  },
  {
   "cell_type": "code",
   "execution_count": null,
   "id": "eb88fea6",
   "metadata": {},
   "outputs": [],
   "source": [
    "# here is the same output\n",
    "print(x + np.reshape(w, (2, 1)))"
   ]
  },
  {
   "cell_type": "code",
   "execution_count": null,
   "id": "c09b24a9",
   "metadata": {},
   "outputs": [],
   "source": [
    "# Multiply a matrix by a constant:\n",
    "# x has shape (2, 3). Numpy treats scalars as arrays of shape ();\n",
    "# these can be broadcast together to shape (2, 3), producing the\n",
    "print(x * 2)"
   ]
  },
  {
   "cell_type": "markdown",
   "id": "a412b2ba",
   "metadata": {},
   "source": [
    "Broadcasting typically makes your code more concise and faster, so you should strive to use it where\n",
    "possible."
   ]
  },
  {
   "cell_type": "markdown",
   "id": "a731c33a",
   "metadata": {},
   "source": [
    "# Numpy Documentation"
   ]
  },
  {
   "cell_type": "markdown",
   "id": "6db55f23",
   "metadata": {},
   "source": [
    "Check out the [numpy reference](http://docs.scipy.org/doc/numpy/reference/) to find out much more about numpy."
   ]
  }
 ],
 "metadata": {
  "kernelspec": {
   "display_name": "Python 3 (ipykernel)",
   "language": "python",
   "name": "python3"
  },
  "language_info": {
   "codemirror_mode": {
    "name": "ipython",
    "version": 3
   },
   "file_extension": ".py",
   "mimetype": "text/x-python",
   "name": "python",
   "nbconvert_exporter": "python",
   "pygments_lexer": "ipython3",
   "version": "3.9.13"
  },
  "toc": {
   "base_numbering": 1,
   "nav_menu": {},
   "number_sections": true,
   "sideBar": true,
   "skip_h1_title": false,
   "title_cell": "Table of Contents",
   "title_sidebar": "Contents",
   "toc_cell": false,
   "toc_position": {
    "height": "calc(100% - 180px)",
    "left": "10px",
    "top": "150px",
    "width": "167px"
   },
   "toc_section_display": true,
   "toc_window_display": true
  }
 },
 "nbformat": 4,
 "nbformat_minor": 5
}
