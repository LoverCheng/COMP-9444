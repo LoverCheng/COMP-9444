{
 "cells": [
  {
   "cell_type": "markdown",
   "id": "4c8cd3e1",
   "metadata": {},
   "source": [
    "# Defining a model"
   ]
  },
  {
   "cell_type": "markdown",
   "id": "76b2f805",
   "metadata": {},
   "source": [
    "class MyModel(torch.nn.Module):\n",
    "\n",
    "    def __init__(self):\n",
    "        super(MyModel, self).__init__()\n",
    "        # define structure of the network here\n",
    "    def forward(self, input):\n",
    "        # apply network and return output"
   ]
  },
  {
   "cell_type": "code",
   "execution_count": 2,
   "id": "6206ad48",
   "metadata": {},
   "outputs": [],
   "source": [
    "import torch.nn as nn"
   ]
  },
  {
   "cell_type": "code",
   "execution_count": 4,
   "id": "65dcfff4",
   "metadata": {},
   "outputs": [],
   "source": [
    "class MyModel(nn.Module):\n",
    "    def __init__(self):\n",
    "        super(MyModel, self).__init__()\n",
    "        self.A = nn.Parameter(torch.randn((1), requires_grad=True))\n",
    "        self.B = nn.Parameter(torch.randn((1), requires_grad=True))\n",
    "\n",
    "    def forward(self, input):\n",
    "        output = self.A * input[:, 0] * torch.log(input[:, 1]) \\\n",
    "            + self.B * input[:, 1] * input[:, 1]\n",
    "        return output"
   ]
  },
  {
   "cell_type": "code",
   "execution_count": 5,
   "id": "d5127328",
   "metadata": {},
   "outputs": [],
   "source": []
  }
 ],
 "metadata": {
  "kernelspec": {
   "display_name": "Python 3 (ipykernel)",
   "language": "python",
   "name": "python3"
  },
  "language_info": {
   "codemirror_mode": {
    "name": "ipython",
    "version": 3
   },
   "file_extension": ".py",
   "mimetype": "text/x-python",
   "name": "python",
   "nbconvert_exporter": "python",
   "pygments_lexer": "ipython3",
   "version": "3.9.13"
  },
  "toc": {
   "base_numbering": 1,
   "nav_menu": {},
   "number_sections": true,
   "sideBar": true,
   "skip_h1_title": false,
   "title_cell": "Table of Contents",
   "title_sidebar": "Contents",
   "toc_cell": false,
   "toc_position": {},
   "toc_section_display": true,
   "toc_window_display": true
  }
 },
 "nbformat": 4,
 "nbformat_minor": 5
}
